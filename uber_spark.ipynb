{
 "cells": [
  {
   "cell_type": "code",
   "execution_count": 1,
   "id": "a892b35d-0344-4321-b97f-7ffb3f21b495",
   "metadata": {},
   "outputs": [],
   "source": [
    "from pyspark import SparkContext, SQLContext, SparkConf, StorageLevel\n",
    "from collections import namedtuple"
   ]
  },
  {
   "cell_type": "code",
   "execution_count": 2,
   "id": "7696b8e5-7962-4a71-8454-bd7e64c4293a",
   "metadata": {},
   "outputs": [
    {
     "name": "stderr",
     "output_type": "stream",
     "text": [
      "24/02/14 19:25:42 WARN Utils: Your hostname, Aditis-MacBook-Air.local resolves to a loopback address: 127.0.0.1; using 192.168.0.103 instead (on interface en0)\n",
      "24/02/14 19:25:42 WARN Utils: Set SPARK_LOCAL_IP if you need to bind to another address\n",
      "Setting default log level to \"WARN\".\n",
      "To adjust logging level use sc.setLogLevel(newLevel). For SparkR, use setLogLevel(newLevel).\n",
      "24/02/14 19:25:42 WARN NativeCodeLoader: Unable to load native-hadoop library for your platform... using builtin-java classes where applicable\n"
     ]
    }
   ],
   "source": [
    "sparkconf = SparkConf().setAppName(\"Uber\").setMaster(\"local[3]\")\n",
    "sc = SparkContext(conf=sparkconf)"
   ]
  },
  {
   "cell_type": "code",
   "execution_count": 3,
   "id": "15e91463-8fed-4ca9-86c3-a7da207bcb43",
   "metadata": {},
   "outputs": [],
   "source": [
    "uber_data = sc.textFile(\"/Users/aditi/Desktop/DataEngg/uber_data.csv\",4,use_unicode=False).repartition(5)"
   ]
  },
  {
   "cell_type": "code",
   "execution_count": 4,
   "id": "1e70216b-a5de-4627-8130-2c3ac477c2d7",
   "metadata": {},
   "outputs": [],
   "source": [
    "fields = ('VendorID','tpep_pickup_datetime','tpep_dropoff_datetime','passenger_count',\\\n",
    "          'trip_distance','pickup_longitude','pickup_latitude','RatecodeID','store_and_fwd_flag',\\\n",
    "          'dropoff_longitude','dropoff_latitude','payment_type','fare_amount','extra','mta_tax',\\\n",
    "          'tip_amount','tolls_amount','improvement_surcharge','total_amount')"
   ]
  },
  {
   "cell_type": "code",
   "execution_count": 5,
   "id": "23f4ea68-2f59-4214-bfb3-e9b61a4ce9da",
   "metadata": {},
   "outputs": [],
   "source": [
    "# uber_data.take(5)\n",
    "# for reading data"
   ]
  },
  {
   "cell_type": "code",
   "execution_count": 6,
   "id": "60f6016a-4644-4d59-80ff-b9b05736edc7",
   "metadata": {},
   "outputs": [
    {
     "name": "stdout",
     "output_type": "stream",
     "text": [
      "<class '__main__.Uber'>\n"
     ]
    }
   ],
   "source": [
    "Uber = namedtuple('Uber', fields)\n",
    "print(Uber)"
   ]
  },
  {
   "cell_type": "code",
   "execution_count": 7,
   "id": "48efcdf3-8fde-4a48-a9fd-23f80536c445",
   "metadata": {},
   "outputs": [],
   "source": [
    "def parseRecords(line):\n",
    "    fields = line.split(\",\")\n",
    "    return Uber(fields[0], fields[1], fields[2],\\\n",
    "                fields[3], fields[4], fields[5], \\\n",
    "                fields[6], fields[7], fields[8], \\\n",
    "                fields[9], fields[10], fields[11], \\\n",
    "                fields[12], fields[13], fields[14], \\\n",
    "                fields[15], fields[16], fields[17], fields[18])\n"
   ]
  },
  {
   "cell_type": "code",
   "execution_count": 8,
   "id": "4b0e3b3d-7ae2-4aa8-afc3-b4e6961c7409",
   "metadata": {},
   "outputs": [],
   "source": [
    "uberData = uber_data.map(lambda x: x.decode('utf-8'))\n",
    "uber = uberData.map(lambda rec : parseRecords(rec) )"
   ]
  },
  {
   "cell_type": "code",
   "execution_count": 9,
   "id": "53f6f19c-5f50-4d49-9c09-0feeca7e8feb",
   "metadata": {},
   "outputs": [
    {
     "name": "stderr",
     "output_type": "stream",
     "text": [
      "                                                                                \r"
     ]
    },
    {
     "data": {
      "text/plain": [
       "[Uber(VendorID='2', tpep_pickup_datetime='2016-03-01 00:00:01', tpep_dropoff_datetime='2016-03-01 00:24:06', passenger_count='3', trip_distance='7.18', pickup_longitude='-73.98577880859380', pickup_latitude='40.74119186401370', RatecodeID='1', store_and_fwd_flag='N', dropoff_longitude='-73.94635009765630', dropoff_latitude='40.79787826538090', payment_type='1', fare_amount='23.5', extra='0.5', mta_tax='0.5', tip_amount='3.2', tolls_amount='0.0', improvement_surcharge='0.3', total_amount='28.0'),\n",
       " Uber(VendorID='2', tpep_pickup_datetime='2016-03-01 00:00:01', tpep_dropoff_datetime='2016-03-01 00:02:03', passenger_count='2', trip_distance='0.54', pickup_longitude='-73.9884262084961', pickup_latitude='40.76416015625', RatecodeID='1', store_and_fwd_flag='N', dropoff_longitude='-73.99239349365230', dropoff_latitude='40.75822448730470', payment_type='2', fare_amount='4.0', extra='0.5', mta_tax='0.5', tip_amount='0.0', tolls_amount='0.0', improvement_surcharge='0.3', total_amount='5.3')]"
      ]
     },
     "execution_count": 9,
     "metadata": {},
     "output_type": "execute_result"
    }
   ],
   "source": [
    "uber.take(2)"
   ]
  },
  {
   "cell_type": "code",
   "execution_count": 10,
   "id": "79ee8507-e344-4509-939a-23086e064efa",
   "metadata": {},
   "outputs": [],
   "source": [
    "def isfloat(str):\n",
    "    try:\n",
    "        float(str)\n",
    "        return True\n",
    "    except ValueError:\n",
    "        return False"
   ]
  },
  {
   "cell_type": "code",
   "execution_count": 11,
   "id": "7cfb1b05-f5ae-46fc-a48c-f424134fcec6",
   "metadata": {},
   "outputs": [
    {
     "data": {
      "text/plain": [
       "[('28.0', '7.18', '3'),\n",
       " ('5.3', '0.54', '2'),\n",
       " ('9.3', '1.7', '1'),\n",
       " ('9.0', '1.1', '1'),\n",
       " ('12.36', '2.1', '1')]"
      ]
     },
     "execution_count": 11,
     "metadata": {},
     "output_type": "execute_result"
    }
   ],
   "source": [
    "passenger_30 = uber.filter(lambda rec : isfloat(rec.trip_distance) and float(rec.trip_distance) < 10.00)\n",
    "passengers = passenger_30.map(lambda rec: (rec.total_amount, rec.trip_distance, rec.passenger_count))\n",
    "passengers.take(5)"
   ]
  },
  {
   "cell_type": "code",
   "execution_count": 12,
   "id": "3304d23d-dd8d-43db-99e4-6d232bc43bd0",
   "metadata": {},
   "outputs": [],
   "source": [
    "total_P = uber.filter(lambda rec : rec.passenger_count.isdigit() and isfloat(rec.total_amount) and \\\n",
    "                      isfloat(rec.trip_distance) and (float(rec.total_amount) > 30.00) & (float(rec.trip_distance)<10.00) \\\n",
    "                      & (int(rec.passenger_count) > 3)).map(lambda rec: (int(rec.passenger_count), float(rec.total_amount)))\n",
    "total = total_P.reduceByKey(lambda a,b: a+b).sortBy(lambda rec: rec[0], ascending = True)\n"
   ]
  },
  {
   "cell_type": "code",
   "execution_count": 13,
   "id": "f80e5328-7208-42ab-92bf-a6219afd2e50",
   "metadata": {},
   "outputs": [
    {
     "data": {
      "text/plain": [
       "[(4, 2279.4300000000003), (5, 15041.870000000008), (6, 8635.969999999998)]"
      ]
     },
     "execution_count": 13,
     "metadata": {},
     "output_type": "execute_result"
    }
   ],
   "source": [
    "total.take(5)"
   ]
  },
  {
   "cell_type": "code",
   "execution_count": 14,
   "id": "8cc48eea-da71-4e94-8be2-23ac2f3e66a3",
   "metadata": {},
   "outputs": [
    {
     "data": {
      "text/plain": [
       "[(('0.0', '0.0', '0.0', '0.0'), 818),\n",
       " (('-73.93831634521480',\n",
       "   '40.747291564941400',\n",
       "   '-73.93831634521480',\n",
       "   '40.747291564941400'),\n",
       "  21),\n",
       " (('-74.10514068603520',\n",
       "   '40.68149185180660',\n",
       "   '-74.10514068603520',\n",
       "   '40.68149185180660'),\n",
       "  20),\n",
       " (('-73.75502014160160',\n",
       "   '40.71524810791020',\n",
       "   '-73.75502014160160',\n",
       "   '40.71524810791020'),\n",
       "  20),\n",
       " (('-73.98658752441410',\n",
       "   '40.76255035400390',\n",
       "   '-73.98658752441410',\n",
       "   '40.76255035400390'),\n",
       "  20)]"
      ]
     },
     "execution_count": 14,
     "metadata": {},
     "output_type": "execute_result"
    }
   ],
   "source": [
    "same_dest = uber.filter(lambda rec: rec.pickup_longitude == rec.dropoff_longitude and rec.pickup_latitude == rec.dropoff_latitude).map(lambda rec: (rec[5], rec[6], rec[9], rec[10])).map(lambda rec: (rec, 1)).reduceByKey(lambda a,b: a+b).sortBy(lambda rec: rec[1], ascending = False)\n",
    "same_dest.take(5)\n",
    "#Counts the no of trips with same destination as start point "
   ]
  },
  {
   "cell_type": "code",
   "execution_count": 15,
   "id": "ac5e1848-0182-4c86-bdaa-e262154e072a",
   "metadata": {},
   "outputs": [
    {
     "name": "stdout",
     "output_type": "stream",
     "text": [
      "[1272]\n"
     ]
    }
   ],
   "source": [
    "total_same_dest = same_dest.map(lambda a: (1, a[1])).reduceByKey(lambda a,b: a+b).map(lambda rec: (rec[1])).collect()\n",
    "print(total_same_dest)"
   ]
  },
  {
   "cell_type": "code",
   "execution_count": 16,
   "id": "c4d3b2d1-6f90-49d6-87d1-fe3dcca7127f",
   "metadata": {},
   "outputs": [],
   "source": [
    "sc.stop()"
   ]
  },
  {
   "cell_type": "code",
   "execution_count": null,
   "id": "317b6f24-0ff4-459a-a438-4243086b3048",
   "metadata": {},
   "outputs": [],
   "source": []
  },
  {
   "cell_type": "code",
   "execution_count": null,
   "id": "3ac7e6c9-860e-4edb-a51f-adda283d508e",
   "metadata": {},
   "outputs": [],
   "source": []
  }
 ],
 "metadata": {
  "kernelspec": {
   "display_name": "Python 3 (ipykernel)",
   "language": "python",
   "name": "python3"
  },
  "language_info": {
   "codemirror_mode": {
    "name": "ipython",
    "version": 3
   },
   "file_extension": ".py",
   "mimetype": "text/x-python",
   "name": "python",
   "nbconvert_exporter": "python",
   "pygments_lexer": "ipython3",
   "version": "3.12.0"
  }
 },
 "nbformat": 4,
 "nbformat_minor": 5
}
